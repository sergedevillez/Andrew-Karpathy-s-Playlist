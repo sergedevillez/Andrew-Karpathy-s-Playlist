{
 "cells": [
  {
   "cell_type": "code",
   "execution_count": null,
   "id": "8a6d798b",
   "metadata": {},
   "outputs": [],
   "source": [
    "open('names.txt', 'r').read()"
   ]
  }
 ],
 "metadata": {
  "language_info": {
   "name": "python"
  }
 },
 "nbformat": 4,
 "nbformat_minor": 5
}
